{
 "cells": [
  {
   "cell_type": "markdown",
   "id": "cb35cfd1",
   "metadata": {},
   "source": [
    "* [ Retour Dash sommaire](../../dash.md)"
   ]
  },
  {
   "cell_type": "markdown",
   "id": "ce86a307",
   "metadata": {},
   "source": [
    "# How To Build A Dashboard In Python – Plotly Dash Step-by-Step Tutorial\n",
    "- https://www.statworx.com/de/blog/how-to-build-a-dashboard-in-python-plotly-dash-step-by-step-tutorial/\n",
    "- gitHub https://github.com/STATWORX/blog/blob/master/DashApp/"
   ]
  },
  {
   "cell_type": "markdown",
   "id": "bab01ccf",
   "metadata": {},
   "source": [
    "## Load the Data"
   ]
  },
  {
   "cell_type": "code",
   "execution_count": 1,
   "id": "4ed525e3",
   "metadata": {},
   "outputs": [
    {
     "name": "stdout",
     "output_type": "stream",
     "text": [
      "                  Date stock        value    change\n",
      "Date                                               \n",
      "2007-01-03  2007-01-03  MSFT    23.950705 -0.167452\n",
      "2007-01-03  2007-01-03   IBM    80.517962  1.069189\n",
      "2007-01-03  2007-01-03  SBUX    16.149666  0.113476\n",
      "2007-01-03  2007-01-03  AAPL    11.086612  2.219569\n",
      "2007-01-03  2007-01-03  GSPC  1416.599976  0.122829\n"
     ]
    }
   ],
   "source": [
    "import pandas as pd\n",
    "\n",
    "# Load data\n",
    "df = pd.read_csv('data/stockdata2.csv', index_col=0, parse_dates=True)\n",
    "df.index = pd.to_datetime(df['Date'])\n",
    "print (df.head())"
   ]
  },
  {
   "cell_type": "markdown",
   "id": "e48176ca",
   "metadata": {},
   "source": [
    "## Getting Started – How to start a Dash app "
   ]
  },
  {
   "cell_type": "code",
   "execution_count": 17,
   "id": "8dc1b702",
   "metadata": {
    "tags": []
   },
   "outputs": [],
   "source": [
    "from jupyter_dash import JupyterDash"
   ]
  },
  {
   "cell_type": "code",
   "execution_count": 18,
   "id": "d477ae37",
   "metadata": {
    "tags": []
   },
   "outputs": [],
   "source": [
    "import dash\n",
    "import dash_html_components as html"
   ]
  },
  {
   "cell_type": "code",
   "execution_count": null,
   "id": "72ffb0cd",
   "metadata": {},
   "outputs": [],
   "source": [
    "# Initialise the app\n",
    "##app = dash.Dash(__name__)\n",
    "app = JupyterDash(__name__)\n",
    "# Create server variable with Flask server object for use with gunicorn\n",
    "server = app.server\n",
    "\n",
    "# Define the app\n",
    "app.layout = html.Div()\n",
    "# Run the app\n",
    "##if __name__ == '__main__':\n",
    " ##   app.run_server(debug=True)"
   ]
  },
  {
   "cell_type": "code",
   "execution_count": null,
   "id": "cb0f0f18",
   "metadata": {},
   "outputs": [],
   "source": [
    "app.run_server(mode=\"inline\", port=8056)"
   ]
  },
  {
   "cell_type": "markdown",
   "id": "73a9b165",
   "metadata": {},
   "source": [
    "#### How to Shutdown server\n",
    "Stop the kernel"
   ]
  },
  {
   "cell_type": "markdown",
   "id": "017b2956",
   "metadata": {},
   "source": [
    "### How a .css-files changes the layout of an app "
   ]
  },
  {
   "cell_type": "code",
   "execution_count": null,
   "id": "5628af68",
   "metadata": {},
   "outputs": [],
   "source": [
    "# Initialise the app\n",
    "##app = dash.Dash(__name__)\n",
    "app = JupyterDash(__name__)\n",
    "# Create server variable with Flask server object for use with gunicorn\n",
    "server = app.server\n",
    "\n",
    "# Define the app\n",
    "app.layout = html.Div(children=[\n",
    "                      html.Div(className='row',  # Define the row element\n",
    "                               children=[\n",
    "                                  html.Div(className='four columns div-user-controls'),  # Define the left element\n",
    "                                  html.Div(className='eight columns div-for-charts bg-grey')  # Define the right element\n",
    "                                  ])\n",
    "                                ])"
   ]
  },
  {
   "cell_type": "code",
   "execution_count": null,
   "id": "25b5ec47",
   "metadata": {},
   "outputs": [],
   "source": [
    "app.run_server()"
   ]
  },
  {
   "cell_type": "markdown",
   "id": "8db308b6",
   "metadata": {},
   "source": [
    "### children four columns div-user-controls"
   ]
  },
  {
   "cell_type": "code",
   "execution_count": null,
   "id": "906dfd30",
   "metadata": {},
   "outputs": [],
   "source": [
    "# Initialise the app\n",
    "##app = dash.Dash(__name__)\n",
    "app = JupyterDash(__name__)\n",
    "# Create server variable with Flask server object for use with gunicorn\n",
    "server = app.server\n",
    "\n",
    "# Define the app\n",
    "app.layout = html.Div(children=[\n",
    "    html.Div(className='row',  # Define the row element\n",
    "             children=[\n",
    "                 html.Div(className='four columns div-user-controls',\n",
    "                          children=[\n",
    "                              html.H2('DASH - STOCK PRICES'),\n",
    "                              html.P('Visualising time series with Plotly - Dash.'),\n",
    "                              html.P('Pick one or more stocks from the dropdown below.'),\n",
    "                              ]\n",
    "                          ),\n",
    "                 html.Div(className='eight columns div-for-charts bg-grey')  # Define the right element\n",
    "                 ])\n",
    "    ])"
   ]
  },
  {
   "cell_type": "raw",
   "id": "4247cf6b",
   "metadata": {},
   "source": [
    "app.run_server()"
   ]
  },
  {
   "cell_type": "markdown",
   "id": "b68271e3",
   "metadata": {},
   "source": [
    "### The basics of an app’s layout\n",
    "Another nice feature of Flask (and hence Dash) is hot-reloading \\\n",
    "adds a button to the bottom right of our app, which lets us take a look at error messages, as well a Callback Graph"
   ]
  },
  {
   "cell_type": "code",
   "execution_count": null,
   "id": "41d943c6",
   "metadata": {},
   "outputs": [],
   "source": [
    "app.run_server(debug=True)"
   ]
  },
  {
   "cell_type": "markdown",
   "id": "7d7465e6",
   "metadata": {},
   "source": [
    "## Charting in Dash – How to display a Plotly-Figure "
   ]
  },
  {
   "cell_type": "code",
   "execution_count": 2,
   "id": "da928ebd",
   "metadata": {
    "tags": []
   },
   "outputs": [],
   "source": [
    "from jupyter_dash import JupyterDash"
   ]
  },
  {
   "cell_type": "code",
   "execution_count": 3,
   "id": "b3eb1048",
   "metadata": {
    "tags": []
   },
   "outputs": [],
   "source": [
    "import dash\n",
    "import dash_html_components as html"
   ]
  },
  {
   "cell_type": "markdown",
   "id": "1094559b",
   "metadata": {},
   "source": [
    "To draw a plot on the right side of our app, add a dcc.Graph()"
   ]
  },
  {
   "cell_type": "code",
   "execution_count": 4,
   "id": "3bbc2efd",
   "metadata": {},
   "outputs": [],
   "source": [
    "import dash_core_components as dcc\n",
    "import plotly.express as px"
   ]
  },
  {
   "cell_type": "code",
   "execution_count": 5,
   "id": "c50fde9c",
   "metadata": {},
   "outputs": [],
   "source": [
    "# Initialise the app\n",
    "##app = dash.Dash(__name__)\n",
    "app = JupyterDash(__name__)\n",
    "# Create server variable with Flask server object for use with gunicorn\n",
    "#server = app.server\n",
    "\n",
    "# Define the app\n",
    "app.layout = html.Div(children=[\n",
    "    html.Div(className='row',  # Define the row element\n",
    "             children=[\n",
    "                 html.Div(className='four columns div-user-controls',\n",
    "                          children=[\n",
    "                              html.H2('DASH - STOCK PRICES'),\n",
    "                              html.P('Visualising time series with Plotly - Dash.'),\n",
    "                              html.P('Pick one or more stocks from the dropdown below.'),\n",
    "                              ]\n",
    "                          ),\n",
    "                 html.Div(className='eight columns div-for-charts bg-grey',  # Define the right element\n",
    "                          children=[\n",
    "                              dcc.Graph(id='timeseries',\n",
    "                                        config={'displayModeBar': False},\n",
    "                                        animate=True,\n",
    "                                        figure=px.line(df,\n",
    "                                                       x='Date',\n",
    "                                                       y='value',\n",
    "                                                       color='stock',\n",
    "                                                       template='plotly_dark').update_layout(\n",
    "                                            {'plot_bgcolor': 'rgba(0, 0, 0, 0)',\n",
    "                                             'paper_bgcolor': 'rgba(0, 0, 0, 0)'})\n",
    "                                        )\n",
    "                              ])\n",
    "                 ])\n",
    "    ])"
   ]
  },
  {
   "cell_type": "code",
   "execution_count": 6,
   "id": "5dd83baf",
   "metadata": {},
   "outputs": [
    {
     "name": "stdout",
     "output_type": "stream",
     "text": [
      "Dash app running on http://127.0.0.1:8050/\n"
     ]
    }
   ],
   "source": [
    "app.run_server(debug=True)"
   ]
  },
  {
   "cell_type": "markdown",
   "id": "ac7d4e95",
   "metadata": {},
   "source": [
    "## Creating a Dropdown Menu "
   ]
  },
  {
   "cell_type": "code",
   "execution_count": 11,
   "id": "c0bafaf5",
   "metadata": {},
   "outputs": [],
   "source": [
    "# Creates a list of dictionaries, which have the keys 'label' and 'value'.\n",
    "def get_options(list_stocks):\n",
    "    dict_list = []\n",
    "    for i in list_stocks:\n",
    "        dict_list.append({'label': i, 'value': i})\n",
    "\n",
    "    return dict_list"
   ]
  },
  {
   "cell_type": "code",
   "execution_count": 12,
   "id": "b8d2cb5f",
   "metadata": {},
   "outputs": [],
   "source": [
    "# Initialise the app\n",
    "##app = dash.Dash(__name__)\n",
    "app = JupyterDash(__name__)\n",
    "# Create server variable with Flask server object for use with gunicorn\n",
    "#server = app.server\n",
    "\n",
    "# Define the app\n",
    "app.layout = html.Div(children=[\n",
    "    html.Div(className='row',  # Define the row element\n",
    "             children=[\n",
    "                 html.Div(className='four columns div-user-controls',\n",
    "                          children=[\n",
    "                              html.H2('DASH - STOCK PRICES'),\n",
    "                              html.P('Visualising time series with Plotly - Dash.'),\n",
    "                              html.P('Pick one or more stocks from the dropdown below.'),\n",
    "                              html.Div(className='div-for-dropdown',\n",
    "                                       children=[\n",
    "                                           dcc.Dropdown(id='stockselector',\n",
    "                                                        options=get_options(df['stock'].unique()),\n",
    "                                                        multi=True,\n",
    "                                                        value=[df['stock'].sort_values()[0]],\n",
    "                                                        style={'backgroundColor': '#1E1E1E'},\n",
    "                                                        className='stockselector')\n",
    "                                           ],\n",
    "                                       style={'color': '#1E1E1E'})\n",
    "                              ]\n",
    "                          ),\n",
    "                 html.Div(className='eight columns div-for-charts bg-grey',  # Define the right element\n",
    "                          children=[\n",
    "                              dcc.Graph(id='timeseries',\n",
    "                                        config={'displayModeBar': False},\n",
    "                                        animate=True,\n",
    "                                        figure=px.line(df,\n",
    "                                                       x='Date',\n",
    "                                                       y='value',\n",
    "                                                       color='stock',\n",
    "                                                       template='plotly_dark').update_layout(\n",
    "                                            {'plot_bgcolor': 'rgba(0, 0, 0, 0)',\n",
    "                                             'paper_bgcolor': 'rgba(0, 0, 0, 0)'})\n",
    "                                        )\n",
    "                              ])\n",
    "                 ])\n",
    "    ])"
   ]
  },
  {
   "cell_type": "code",
   "execution_count": 13,
   "id": "9804a71a",
   "metadata": {},
   "outputs": [
    {
     "name": "stdout",
     "output_type": "stream",
     "text": [
      "Dash app running on http://127.0.0.1:8050/\n"
     ]
    }
   ],
   "source": [
    "app.run_server(debug=True)"
   ]
  },
  {
   "cell_type": "markdown",
   "id": "cf7e6f53",
   "metadata": {},
   "source": [
    "## Working with Callbacks\n",
    "### How to add interactive functionalities to your app "
   ]
  },
  {
   "cell_type": "code",
   "execution_count": 2,
   "id": "4fab4915",
   "metadata": {
    "tags": []
   },
   "outputs": [
    {
     "name": "stdout",
     "output_type": "stream",
     "text": [
      "                  Date stock        value    change\n",
      "Date                                               \n",
      "2007-01-03  2007-01-03  MSFT    23.950705 -0.167452\n",
      "2007-01-03  2007-01-03   IBM    80.517962  1.069189\n",
      "2007-01-03  2007-01-03  SBUX    16.149666  0.113476\n",
      "2007-01-03  2007-01-03  AAPL    11.086612  2.219569\n",
      "2007-01-03  2007-01-03  GSPC  1416.599976  0.122829\n"
     ]
    }
   ],
   "source": [
    "import pandas as pd\n",
    "\n",
    "# Load data\n",
    "df = pd.read_csv('data/stockdata2.csv', index_col=0, parse_dates=True)\n",
    "df.index = pd.to_datetime(df['Date'])\n",
    "print (df.head())"
   ]
  },
  {
   "cell_type": "code",
   "execution_count": 3,
   "id": "3738c3f2",
   "metadata": {
    "tags": []
   },
   "outputs": [],
   "source": [
    "from jupyter_dash import JupyterDash\n",
    "import dash\n",
    "import dash_html_components as html\n",
    "import dash_core_components as dcc\n",
    "import plotly.express as px"
   ]
  },
  {
   "cell_type": "code",
   "execution_count": 4,
   "id": "5a320242",
   "metadata": {},
   "outputs": [],
   "source": [
    "# Creates a list of dictionaries, which have the keys 'label' and 'value'.\n",
    "def get_options(list_stocks):\n",
    "    dict_list = []\n",
    "    for i in list_stocks:\n",
    "        dict_list.append({'label': i, 'value': i})\n",
    "\n",
    "    return dict_list"
   ]
  },
  {
   "cell_type": "code",
   "execution_count": 5,
   "id": "5629edb3",
   "metadata": {},
   "outputs": [],
   "source": [
    "# Initialise the app\n",
    "##app = dash.Dash(__name__)\n",
    "app = JupyterDash(__name__)\n",
    "app.config.suppress_callback_exceptions = True\n",
    "\n",
    "# Define the app\n",
    "app.layout = html.Div(children=[\n",
    "    html.Div(className='row',  # Define the row element\n",
    "             children=[\n",
    "                 html.Div(className='four columns div-user-controls',\n",
    "                          children=[\n",
    "                              html.H2('DASH - STOCK PRICES'),\n",
    "                              html.P('Visualising time series with Plotly - Dash.'),\n",
    "                              html.P('Pick one or more stocks from the dropdown below.'),\n",
    "                              html.Div(className='div-for-dropdown',\n",
    "                                       children=[\n",
    "                                           dcc.Dropdown(id='stockselector',\n",
    "                                                        options=get_options(df['stock'].unique()),\n",
    "                                                        multi=True,\n",
    "                                                        value=[df['stock'].sort_values()[0]],\n",
    "                                                        style={'backgroundColor': '#1E1E1E'},\n",
    "                                                        className='stockselector')\n",
    "                                           ],\n",
    "                                       style={'color': '#1E1E1E'})\n",
    "                              ]\n",
    "                          ),\n",
    "                 html.Div(className='eight columns div-for-charts bg-grey',  # Define the right element\n",
    "                          children=[\n",
    "                              dcc.Graph(id='timeseries', config={'displayModeBar': False}, animate=True),\n",
    "                              dcc.Graph(id='change', config={'displayModeBar': False})\n",
    "                              ])\n",
    "                 ])\n",
    "    ])"
   ]
  },
  {
   "cell_type": "code",
   "execution_count": 6,
   "id": "e43cf836",
   "metadata": {},
   "outputs": [
    {
     "name": "stdout",
     "output_type": "stream",
     "text": [
      "Dash app running on http://127.0.0.1:8050/\n"
     ]
    }
   ],
   "source": [
    "app.run_server(debug=True)"
   ]
  },
  {
   "cell_type": "code",
   "execution_count": 7,
   "id": "7a23fee7",
   "metadata": {},
   "outputs": [],
   "source": [
    "from dash.dependencies import Input, Output"
   ]
  },
  {
   "cell_type": "code",
   "execution_count": 10,
   "id": "7c73450a",
   "metadata": {},
   "outputs": [],
   "source": [
    "# Update Time Series\n",
    "@app.callback(Output('id of output component', 'property of output component'),\n",
    "              [Input('id of input component', 'property of input component')])\n",
    "def arbitrary_function(value_of_first_input):\n",
    "    '''\n",
    "    The property of the input component is passed to the function as value_of_first_input.\n",
    "    The functions return value is passed to the property of the output component.\n",
    "    '''\n",
    "    return arbitrary_output"
   ]
  },
  {
   "cell_type": "markdown",
   "id": "7c036008",
   "metadata": {},
   "source": [
    "### Implementing Callbacks\n",
    "#### Update timeseries"
   ]
  },
  {
   "cell_type": "code",
   "execution_count": 14,
   "id": "10f72d83",
   "metadata": {},
   "outputs": [],
   "source": [
    "import plotly.graph_objects as go"
   ]
  },
  {
   "cell_type": "code",
   "execution_count": 15,
   "id": "4e23fdd2",
   "metadata": {
    "tags": []
   },
   "outputs": [],
   "source": [
    "from dash.dependencies import Input, Output"
   ]
  },
  {
   "cell_type": "code",
   "execution_count": 16,
   "id": "5586e5f9",
   "metadata": {},
   "outputs": [],
   "source": [
    "@app.callback(Output('timeseries', 'figure'),\n",
    "              [Input('stockselector', 'value')])\n",
    "def update_timeseries(selected_dropdown_value):\n",
    "    ''' Draw traces of the feature 'value' based one the currently selected stocks '''\n",
    "    # STEP 1\n",
    "    trace = []  \n",
    "    df_sub = df\n",
    "    # STEP 2\n",
    "    # Draw and append traces for each stock\n",
    "    for stock in selected_dropdown_value:   \n",
    "        trace.append(go.Scatter(x=df_sub[df_sub['stock'] == stock].index,\n",
    "                                 y=df_sub[df_sub['stock'] == stock]['value'],\n",
    "                                 mode='lines',\n",
    "                                 opacity=0.7,\n",
    "                                 name=stock,\n",
    "                                 textposition='bottom center'))  \n",
    "    # STEP 3\n",
    "    traces = [trace]\n",
    "    data = [val for sublist in traces for val in sublist]\n",
    "    # Define Figure\n",
    "    # STEP 4\n",
    "    figure = {'data': data,\n",
    "              'layout': go.Layout(\n",
    "                  colorway=[\"#5E0DAC\", '#FF4F00', '#375CB1', '#FF7400', '#FFF400', '#FF0056'],\n",
    "                  template='plotly_dark',\n",
    "                  paper_bgcolor='rgba(0, 0, 0, 0)',\n",
    "                  plot_bgcolor='rgba(0, 0, 0, 0)',\n",
    "                  margin={'b': 15},\n",
    "                  hovermode='x',\n",
    "                  autosize=True,\n",
    "                  title={'text': 'Stock Prices', 'font': {'color': 'white'}, 'x': 0.5},\n",
    "                  xaxis={'range': [df_sub.index.min(), df_sub.index.max()]},\n",
    "              ),\n",
    "\n",
    "              }\n",
    "\n",
    "    return figure"
   ]
  },
  {
   "cell_type": "raw",
   "id": "bd155514",
   "metadata": {},
   "source": [
    "STEP 1\n",
    "    * A trace will be drawn for each stock. Create an empty list for each trace from the plotly figure.\n",
    "\n",
    "STEP 2\n",
    "Within the for-loop, a trace for a plotly figure will be drawn with the function go.Scatter().\n",
    "    * Iterate over the stocks currently selected in our dropdown menu, draw a trace, and append that trace to our list from step 1.\n",
    "\n",
    "STEP 3\n",
    "    * Flatten the traces\n",
    "\n",
    "STEP 4\n",
    "Plotly figures are dictionaries with the keys data and layout. The value of data is our flattened list with the traces we have drawn. The layout is defined with the plotly class go.Layout().\n",
    "    * Add the trace to our figure\n",
    "    * Define the layout of our figure"
   ]
  },
  {
   "cell_type": "markdown",
   "id": "e06de4bd",
   "metadata": {},
   "source": [
    "#### Update the figure change:"
   ]
  },
  {
   "cell_type": "code",
   "execution_count": 17,
   "id": "99cf055f",
   "metadata": {},
   "outputs": [],
   "source": [
    "@app.callback(Output('change', 'figure'),\n",
    "              [Input('stockselector', 'value')])\n",
    "def update_change(selected_dropdown_value):\n",
    "    ''' Draw traces of the feature 'change' based one the currently selected stocks '''\n",
    "    trace = []\n",
    "    df_sub = df\n",
    "    # Draw and append traces for each stock\n",
    "    for stock in selected_dropdown_value:\n",
    "        trace.append(go.Scatter(x=df_sub[df_sub['stock'] == stock].index,\n",
    "                                 y=df_sub[df_sub['stock'] == stock]['change'],\n",
    "                                 mode='lines',\n",
    "                                 opacity=0.7,\n",
    "                                 name=stock,\n",
    "                                 textposition='bottom center'))\n",
    "    traces = [trace]\n",
    "    data = [val for sublist in traces for val in sublist]\n",
    "    # Define Figure\n",
    "    figure = {'data': data,\n",
    "              'layout': go.Layout(\n",
    "                  colorway=[\"#5E0DAC\", '#FF4F00', '#375CB1', '#FF7400', '#FFF400', '#FF0056'],\n",
    "                  template='plotly_dark',\n",
    "                  paper_bgcolor='rgba(0, 0, 0, 0)',\n",
    "                  plot_bgcolor='rgba(0, 0, 0, 0)',\n",
    "                  margin={'t': 50},\n",
    "                  height=250,\n",
    "                  hovermode='x',\n",
    "                  autosize=True,\n",
    "                  title={'text': 'Daily Change', 'font': {'color': 'white'}, 'x': 0.5},\n",
    "                  xaxis={'showticklabels': False, 'range': [df_sub.index.min(), df_sub.index.max()]},\n",
    "              ),\n",
    "              }\n",
    "\n",
    "    return figure"
   ]
  },
  {
   "cell_type": "code",
   "execution_count": 18,
   "id": "c3ba89a8",
   "metadata": {},
   "outputs": [
    {
     "name": "stdout",
     "output_type": "stream",
     "text": [
      "Dash app running on http://127.0.0.1:8050/\n"
     ]
    }
   ],
   "source": [
    "app.run_server(debug=True)"
   ]
  },
  {
   "cell_type": "markdown",
   "id": "58e86d60",
   "metadata": {},
   "source": [
    "# Complete code"
   ]
  },
  {
   "cell_type": "code",
   "execution_count": 2,
   "id": "71c67e2a",
   "metadata": {},
   "outputs": [],
   "source": [
    "from jupyter_dash import JupyterDash"
   ]
  },
  {
   "cell_type": "code",
   "execution_count": 3,
   "id": "3b83f8ff",
   "metadata": {},
   "outputs": [],
   "source": [
    "# -*- coding: utf-8 -*-\n",
    "\"\"\"\n",
    "Created on Sat Apr 10 11:52:45 2021\n",
    "\n",
    "@author: Utilisateur\n",
    "\"\"\"\n",
    "\n",
    "import dash\n",
    "import dash_html_components as html\n",
    "import dash_core_components as dcc\n",
    "import plotly.graph_objects as go\n",
    "import pandas as pd\n",
    "from dash.dependencies import Input, Output\n",
    "\n",
    "# Load data\n",
    "df = pd.read_csv('data/stockdata2.csv', index_col=0, parse_dates=True)\n",
    "df.index = pd.to_datetime(df['Date'])\n",
    "\n",
    "# Initialize the app\n",
    "##app = dash.Dash(__name__)\n",
    "app = JupyterDash(__name__)\n",
    "app.config.suppress_callback_exceptions = True\n",
    "\n",
    "\n",
    "def get_options(list_stocks):\n",
    "    dict_list = []\n",
    "    for i in list_stocks:\n",
    "        dict_list.append({'label': i, 'value': i})\n",
    "\n",
    "    return dict_list\n",
    "\n",
    "\n",
    "app.layout = html.Div(\n",
    "    children=[\n",
    "        html.Div(className='row',\n",
    "                 children=[\n",
    "                    html.Div(className='four columns div-user-controls',\n",
    "                             children=[\n",
    "                                 html.H2('DASH - STOCK PRICES'),\n",
    "                                 html.P('Visualising time series with Plotly - Dash.'),\n",
    "                                 html.P('Pick one or more stocks from the dropdown below.'),\n",
    "                                 html.Div(\n",
    "                                     className='div-for-dropdown',\n",
    "                                     children=[\n",
    "                                         dcc.Dropdown(id='stockselector', options=get_options(df['stock'].unique()),\n",
    "                                                      multi=True, value=[df['stock'].sort_values()[0]],\n",
    "                                                      style={'backgroundColor': '#1E1E1E'},\n",
    "                                                      className='stockselector'\n",
    "                                                      ),\n",
    "                                     ],\n",
    "                                     style={'color': '#1E1E1E'})\n",
    "                                ]\n",
    "                             ),\n",
    "                    html.Div(className='eight columns div-for-charts bg-grey',\n",
    "                             children=[\n",
    "                                 dcc.Graph(id='timeseries', config={'displayModeBar': False}, animate=True)\n",
    "                             ])\n",
    "                              ])\n",
    "        ]\n",
    "\n",
    ")\n",
    "\n",
    "\n",
    "# Callback for timeseries price\n",
    "@app.callback(Output('timeseries', 'figure'),\n",
    "              [Input('stockselector', 'value')])\n",
    "def update_graph(selected_dropdown_value):\n",
    "    trace1 = []\n",
    "    df_sub = df\n",
    "    for stock in selected_dropdown_value:\n",
    "        trace1.append(go.Scatter(x=df_sub[df_sub['stock'] == stock].index,\n",
    "                                 y=df_sub[df_sub['stock'] == stock]['value'],\n",
    "                                 mode='lines',\n",
    "                                 opacity=0.7,\n",
    "                                 name=stock,\n",
    "                                 textposition='bottom center'))\n",
    "    traces = [trace1]\n",
    "    data = [val for sublist in traces for val in sublist]\n",
    "    figure = {'data': data,\n",
    "              'layout': go.Layout(\n",
    "                  colorway=[\"#5E0DAC\", '#FF4F00', '#375CB1', '#FF7400', '#FFF400', '#FF0056'],\n",
    "                  template='plotly_dark',\n",
    "                  paper_bgcolor='rgba(0, 0, 0, 0)',\n",
    "                  plot_bgcolor='rgba(0, 0, 0, 0)',\n",
    "                  margin={'b': 15},\n",
    "                  hovermode='x',\n",
    "                  autosize=True,\n",
    "                  title={'text': 'Stock Prices', 'font': {'color': 'white'}, 'x': 0.5},\n",
    "                  xaxis={'range': [df_sub.index.min(), df_sub.index.max()]},\n",
    "              ),\n",
    "\n",
    "              }\n",
    "\n",
    "    return figure"
   ]
  },
  {
   "cell_type": "code",
   "execution_count": 4,
   "id": "fa7a6446",
   "metadata": {},
   "outputs": [
    {
     "name": "stdout",
     "output_type": "stream",
     "text": [
      "Dash app running on http://127.0.0.1:8050/\n"
     ]
    }
   ],
   "source": [
    "app.run_server(debug=True)"
   ]
  }
 ],
 "metadata": {
  "kernelspec": {
   "display_name": "Python 3",
   "language": "python",
   "name": "python3"
  },
  "language_info": {
   "codemirror_mode": {
    "name": "ipython",
    "version": 3
   },
   "file_extension": ".py",
   "mimetype": "text/x-python",
   "name": "python",
   "nbconvert_exporter": "python",
   "pygments_lexer": "ipython3",
   "version": "3.8.8"
  },
  "toc-autonumbering": false,
  "toc-showcode": false,
  "toc-showmarkdowntxt": false
 },
 "nbformat": 4,
 "nbformat_minor": 5
}
